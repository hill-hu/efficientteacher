{
 "cells": [
  {
   "cell_type": "markdown",
   "source": [
    "### 构建息肉数据集"
   ],
   "metadata": {
    "collapsed": false
   },
   "id": "5af41cfa6fe4cb79"
  },
  {
   "cell_type": "code",
   "outputs": [],
   "source": [
    "import torch\n",
    "from torchvision import datasets, transforms\n",
    "import torch\n",
    "import torch.distributed as dist\n",
    "import torch.nn as nn\n",
    "from trainer.trainer import Trainer\n",
    "from trainer.ssod_trainer import SSODTrainer\n",
    "from configs.defaults import get_cfg\n",
    "from utils.general import increment_path, check_git_status, check_requirements, \\\n",
    "    print_args, set_logging\n",
    "from pathlib import Path\n",
    "import logging\n",
    "import os\n",
    "import argparse\n",
    "from utils.callbacks import Callbacks\n",
    "from utils.torch_utils import select_device\n",
    "import sys\n",
    "from datetime import timedelta\n",
    "import val\n",
    "# 定义目标检测模型\n",
    "from models.detector.yolo import Model\n",
    "import json\n",
    "import os\n",
    "\n",
    "import numpy as np\n",
    "\n",
    "import matplotlib.pyplot as plt\n",
    "import random\n",
    "import pathlib\n",
    "import cv2"
   ],
   "metadata": {
    "ExecuteTime": {
     "end_time": "2024-03-08T08:22:49.080739700Z",
     "start_time": "2024-03-08T08:22:44.788928300Z"
    }
   },
   "id": "cf6f9096",
   "execution_count": 1
  },
  {
   "cell_type": "code",
   "outputs": [],
   "source": [
    "matrix=np.asmatrix([[          0,0,0,0,0,0,0,0,0,0,3],\n",
    " [          2,1,1,0,0,0,0,0,0,0,8],\n",
    " [          4,3,0,1,0,0,0,0,0,0,8],\n",
    " [          0,0,0,0,0,0,0,0,0,0,5],\n",
    " [          0,3,1,1,2,0,0,0,0,0 ,  13],\n",
    " [          0,0,0,0,0,0,0,0,0,0,0],\n",
    " [          0,0,0,0,0,0,0,0,0,0,0],\n",
    " [          0,0,0,0,0,0,0,0,0,0,0],\n",
    " [          0,0,0,0,0,0,0,0,0,0,0],\n",
    " [          0,0,0,0,0,0,0,0,0,0,0],\n",
    " [          2,6,1,0,0,0,0,0,0,0,0]])"
   ],
   "metadata": {
    "collapsed": false,
    "ExecuteTime": {
     "end_time": "2024-03-08T08:27:34.202620500Z",
     "start_time": "2024-03-08T08:27:34.178226500Z"
    }
   },
   "id": "384ad36b1f423708",
   "execution_count": 9
  },
  {
   "cell_type": "code",
   "outputs": [
    {
     "name": "stdout",
     "output_type": "stream",
     "text": [
      "[[ 8 13  3  2  2  0  0  0  0  0 37]]\n"
     ]
    }
   ],
   "source": [
    "print(sum(sum(sum(matrix))))"
   ],
   "metadata": {
    "collapsed": false,
    "ExecuteTime": {
     "end_time": "2024-03-08T08:28:05.805202800Z",
     "start_time": "2024-03-08T08:28:05.785026200Z"
    }
   },
   "id": "9a5de12ec86d39db",
   "execution_count": 13
  },
  {
   "cell_type": "code",
   "outputs": [],
   "source": [
    "device = torch.device('cuda:0')\n",
    "\n",
    "def load_model():\n",
    "    ckpt = torch.load(r'E:\\medical\\depth\\runs\\exp15_polyp_yolov5\\best.pt', map_location=device)  # load checkpoint\n",
    "    model = ckpt['model']\n",
    "    return model"
   ],
   "metadata": {
    "collapsed": false,
    "ExecuteTime": {
     "end_time": "2024-03-05T05:48:29.196836800Z",
     "start_time": "2024-03-05T05:48:29.173896800Z"
    }
   },
   "id": "fe863c15f2b301a3",
   "execution_count": 8
  },
  {
   "cell_type": "code",
   "outputs": [],
   "source": [
    "class FCNN(torch.nn.Module):\n",
    "    def __init__(self):\n",
    "        super().__init__()\n",
    "\n",
    "        # 定义全连接层\n",
    "        self.fc1 = torch.nn.Linear(in_features=25200 * 6, out_features=1024, dtype=torch.half)\n",
    "\n",
    "        self.fc2 = torch.nn.Linear(in_features=1024, out_features=1)\n",
    "\n",
    "    def forward(self, x):\n",
    "        # 将图像展平\n",
    "        x = x.view(-1, 25200 * 6)\n",
    "\n",
    "        # 全连接层\n",
    "        x = self.fc1(x)        \n",
    "        x = torch.nn.ReLU()(x)\n",
    "        x = self.fc2(x)\n",
    "        x = torch.nn.Sigmoid()(x)\n",
    "\n",
    "        return x\n"
   ],
   "metadata": {
    "collapsed": false,
    "ExecuteTime": {
     "end_time": "2024-03-05T06:20:06.028667500Z",
     "start_time": "2024-03-05T06:20:06.005158300Z"
    }
   },
   "id": "d09ae2cb28853983",
   "execution_count": 27
  },
  {
   "cell_type": "code",
   "outputs": [],
   "source": [
    "# 微调分类模型\n",
    "batch_size = 32\n",
    "train_dataset = datasets.ImageFolder(root=r\"E:\\medical\\depth\\dataset\\classify\", transform=transforms.Compose(\n",
    "    [transforms.ToTensor(), transforms.Resize((640, 640)),\n",
    "     transforms.Normalize((0.5, 0.5, 0.5), (0.5, 0.5, 0.5))]))\n",
    "train_loader = torch.utils.data.DataLoader(train_dataset, batch_size=batch_size, shuffle=True)"
   ],
   "metadata": {
    "collapsed": false,
    "ExecuteTime": {
     "end_time": "2024-03-05T05:49:23.470093500Z",
     "start_time": "2024-03-05T05:49:23.447610300Z"
    }
   },
   "id": "c76aff087b4632d7",
   "execution_count": 10
  },
  {
   "cell_type": "code",
   "outputs": [],
   "source": [
    "model=load_model()"
   ],
   "metadata": {
    "collapsed": false,
    "ExecuteTime": {
     "end_time": "2024-03-05T05:50:40.015101800Z",
     "start_time": "2024-03-05T05:50:38.281905600Z"
    }
   },
   "id": "cf417719bdfea5a5",
   "execution_count": 11
  },
  {
   "cell_type": "code",
   "outputs": [
    {
     "name": "stdout",
     "output_type": "stream",
     "text": [
      "yolo output shape: torch.Size([32, 25200, 6]) ,classify_input: torch.Size([32, 25200, 6])\n",
      "classify output shape: torch.Size([32, 1]) , values: tensor([[1.01328e-06],\n",
      "        [3.87430e-04],\n",
      "        [4.35114e-06],\n",
      "        [2.98023e-06],\n",
      "        [4.11272e-06],\n",
      "        [1.43051e-06],\n",
      "        [9.53674e-07],\n",
      "        [5.78165e-06],\n",
      "        [4.35114e-06],\n",
      "        [2.95639e-05],\n",
      "        [2.50340e-06],\n",
      "        [5.72205e-06],\n",
      "        [5.96046e-08],\n",
      "        [2.92063e-06],\n",
      "        [4.76837e-07],\n",
      "        [4.94719e-06],\n",
      "        [6.67572e-06],\n",
      "        [1.78814e-06],\n",
      "        [1.29342e-04],\n",
      "        [2.38419e-06],\n",
      "        [1.19209e-07],\n",
      "        [7.39098e-06],\n",
      "        [9.59635e-06],\n",
      "        [1.78814e-07],\n",
      "        [1.89543e-05],\n",
      "        [4.17233e-06],\n",
      "        [1.39475e-05],\n",
      "        [6.25849e-06],\n",
      "        [3.15905e-06],\n",
      "        [8.94070e-07],\n",
      "        [1.19209e-07],\n",
      "        [5.18560e-06]], device='cuda:0', dtype=torch.float16, grad_fn=<SigmoidBackward>)\n",
      "loss: 0.693359375\n",
      "classify output shape: torch.Size([32, 1]) , values: tensor([[nan],\n",
      "        [nan],\n",
      "        [nan],\n",
      "        [nan],\n",
      "        [nan],\n",
      "        [nan],\n",
      "        [nan],\n",
      "        [nan],\n",
      "        [nan],\n",
      "        [nan],\n",
      "        [nan],\n",
      "        [nan],\n",
      "        [nan],\n",
      "        [nan],\n",
      "        [nan],\n",
      "        [nan],\n",
      "        [nan],\n",
      "        [nan],\n",
      "        [nan],\n",
      "        [nan],\n",
      "        [nan],\n",
      "        [nan],\n",
      "        [nan],\n",
      "        [nan],\n",
      "        [nan],\n",
      "        [nan],\n",
      "        [nan],\n",
      "        [nan],\n",
      "        [nan],\n",
      "        [nan],\n",
      "        [nan],\n",
      "        [nan]], device='cuda:0', dtype=torch.float16, grad_fn=<SigmoidBackward>)\n",
      "loss: nan\n"
     ]
    }
   ],
   "source": [
    "# 定义分类模型\n",
    "classifier = FCNN().to(device)\n",
    "classifier.cuda().half()\n",
    "# 微调分类模型\n",
    "\n",
    "optimizer = torch.optim.Adam(classifier.parameters(), lr=0.001)\n",
    "# 定义损失函数\n",
    "criterion = torch.nn.BCEWithLogitsLoss().to(device)\n",
    "input_shape = None\n",
    "times=0\n",
    "for epoch in range(1):\n",
    "    for images, labels in train_loader:\n",
    "        times+=1\n",
    "        if times>2:\n",
    "            break\n",
    "        images = images.cuda().half()\n",
    "        \n",
    "        # 前向传播\n",
    "        outputs = model(images)\n",
    "        classify_input = outputs[0]\n",
    "\n",
    "        if input_shape is None:\n",
    "            input_shape = classify_input.shape\n",
    "            print(\"yolo output shape:\", input_shape, \",classify_input:\", classify_input.shape)\n",
    "        # 梯度清零\n",
    "        optimizer.zero_grad()\n",
    "        logits = classifier(classify_input)\n",
    "        # 计算损失\n",
    "        _labels = labels.view(-1, 1).to(device).cuda().half()\n",
    "        print(\"classify output shape:\", logits.shape, \", values:\", logits)\n",
    "        # print(\"labels shape:\", _labels.shape, \", values:\", _labels)\n",
    "\n",
    "        loss = criterion(logits, _labels)\n",
    "        print(\"loss:\", loss.item())\n",
    "\n",
    "        # 反向传播\n",
    "        loss.backward()\n",
    "        # 更新参数\n",
    "        optimizer.step()"
   ],
   "metadata": {
    "collapsed": false,
    "ExecuteTime": {
     "end_time": "2024-03-05T06:20:18.231676300Z",
     "start_time": "2024-03-05T06:20:10.125182700Z"
    }
   },
   "id": "ed8c66dd4b37f5bb",
   "execution_count": 28
  },
  {
   "cell_type": "code",
   "outputs": [],
   "source": [],
   "metadata": {
    "collapsed": false
   },
   "id": "a04736d67f0044d6"
  }
 ],
 "metadata": {
  "kernelspec": {
   "display_name": "Python 3 (ipykernel)",
   "language": "python",
   "name": "python3"
  },
  "language_info": {
   "codemirror_mode": {
    "name": "ipython",
    "version": 3
   },
   "file_extension": ".py",
   "mimetype": "text/x-python",
   "name": "python",
   "nbconvert_exporter": "python",
   "pygments_lexer": "ipython3",
   "version": "3.8.5"
  }
 },
 "nbformat": 4,
 "nbformat_minor": 5
}
