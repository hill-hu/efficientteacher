{
 "cells": [
  {
   "cell_type": "code",
   "execution_count": 1,
   "metadata": {
    "ExecuteTime": {
     "end_time": "2024-03-04T03:21:46.580296Z",
     "start_time": "2024-03-04T03:21:35.298043Z"
    }
   },
   "outputs": [],
   "source": [
    "import os\n",
    "\n",
    "import joblib\n",
    "from keras.applications import ResNet50\n",
    "from keras.applications.resnet import preprocess_input\n",
    "import onnx\n",
    "from keras.models import load_model, model_from_json, Model\n",
    "import keras2onnx\n",
    "from PIL import Image\n",
    "import numpy as np\n",
    "from glob import glob\n",
    "from tqdm.notebook import tqdm"
   ]
  },
  {
   "cell_type": "code",
   "execution_count": 2,
   "metadata": {},
   "outputs": [],
   "source": [
    "model = ResNet50()"
   ]
  },
  {
   "cell_type": "code",
   "execution_count": 13,
   "metadata": {},
   "outputs": [],
   "source": [
    "image = Image.open('cat.jpg')\n",
    "image = image.resize((224, 224))"
   ]
  },
  {
   "cell_type": "code",
   "execution_count": 14,
   "metadata": {},
   "outputs": [],
   "source": [
    "img = np.array(image)"
   ]
  },
  {
   "cell_type": "code",
   "execution_count": 15,
   "metadata": {},
   "outputs": [],
   "source": [
    "img = preprocess_input(img)"
   ]
  },
  {
   "cell_type": "code",
   "execution_count": 6,
   "metadata": {},
   "outputs": [
    {
     "data": {
      "text/plain": [
       "dtype('float32')"
      ]
     },
     "execution_count": 6,
     "metadata": {},
     "output_type": "execute_result"
    }
   ],
   "source": [
    "img.dtype"
   ]
  },
  {
   "cell_type": "code",
   "execution_count": 3,
   "metadata": {},
   "outputs": [],
   "source": [
    "img = joblib.load('test_model/img.jbl')"
   ]
  },
  {
   "cell_type": "code",
   "execution_count": 4,
   "metadata": {},
   "outputs": [],
   "source": [
    "cls = model.predict(img[None, :])"
   ]
  },
  {
   "cell_type": "code",
   "execution_count": 5,
   "metadata": {},
   "outputs": [
    {
     "name": "stdout",
     "output_type": "stream",
     "text": [
      "285\n",
      "0.21655737\n"
     ]
    },
    {
     "data": {
      "text/plain": [
       "(None, None)"
      ]
     },
     "execution_count": 5,
     "metadata": {},
     "output_type": "execute_result"
    }
   ],
   "source": [
    "print(np.argmax(cls)), print(np.max(cls))"
   ]
  },
  {
   "cell_type": "code",
   "execution_count": 3,
   "metadata": {},
   "outputs": [
    {
     "name": "stdout",
     "output_type": "stream",
     "text": [
      "WARNING:tensorflow:No training configuration found in the save file, so the model was *not* compiled. Compile it manually.\n"
     ]
    }
   ],
   "source": [
    "model = load_model(r\"D:\\Projects\\英伟达备份\\内镜精灵V7模型\\已解密\\imgs_nbi_ca\\cache\\weights2_1out.h5\")"
   ]
  },
  {
   "cell_type": "code",
   "execution_count": 4,
   "metadata": {},
   "outputs": [],
   "source": [
    "branch_model = Model(model.input, [model.layers[172].output, model.output])"
   ]
  },
  {
   "cell_type": "code",
   "execution_count": 5,
   "metadata": {},
   "outputs": [],
   "source": [
    "branch_model.save(r\"D:\\Projects\\英伟达备份\\内镜精灵V7模型\\已解密\\imgs_nbi_ca\\cache\\weights2_old.h5\")"
   ]
  },
  {
   "cell_type": "code",
   "execution_count": 3,
   "metadata": {},
   "outputs": [
    {
     "name": "stderr",
     "output_type": "stream",
     "text": [
      "tf executing eager_mode: True\n",
      "tf.keras model eager_mode: False\n",
      "The ONNX operator number change on the optimization: 642 -> 178\n"
     ]
    }
   ],
   "source": [
    "onnx_model = keras2onnx.convert_keras(branch_model, branch_model.name, target_opset=11)\n",
    "temp_model_file = r\"D:\\Projects\\英伟达备份\\内镜精灵V7模型\\转换后\\imgs_tool\\cache\\y_model1.onnx\"\n",
    "onnx.save_model(onnx_model, temp_model_file)"
   ]
  },
  {
   "cell_type": "markdown",
   "metadata": {},
   "source": [
    "# json加载模型"
   ]
  },
  {
   "cell_type": "code",
   "execution_count": 2,
   "metadata": {
    "ExecuteTime": {
     "end_time": "2024-03-04T03:22:19.680323Z",
     "start_time": "2024-03-04T03:21:59.872297Z"
    }
   },
   "outputs": [],
   "source": [
    "model = model_from_json(\n",
    "    open(r\"\\\\192.168.0.111\\共享\\for-wangwujin-1008\\清晰判断2分类模型2020年\\model1.json\", 'r').read())\n",
    "model.load_weights(r\"\\\\192.168.0.111\\共享\\for-wangwujin-1008\\清晰判断2分类模型2020年\\weights1.hdf5\")\n",
    "model.save(r\"\\\\192.168.0.111\\共享\\for-wangwujin-1008\\清晰判断2分类模型2020年\\weights1.h5\")"
   ]
  },
  {
   "cell_type": "markdown",
   "metadata": {},
   "source": [
    "# 批量转换h5到onnx"
   ]
  },
  {
   "cell_type": "code",
   "execution_count": 2,
   "metadata": {
    "ExecuteTime": {
     "end_time": "2023-09-06T09:52:34.054709600Z",
     "start_time": "2023-09-06T09:52:34.037683700Z"
    }
   },
   "outputs": [],
   "source": [
    "src_root = r'Y:\\arm_linux\\data_decrypt\\data'"
   ]
  },
  {
   "cell_type": "code",
   "execution_count": 3,
   "metadata": {
    "ExecuteTime": {
     "end_time": "2023-09-06T09:52:35.478063500Z",
     "start_time": "2023-09-06T09:52:35.413057500Z"
    }
   },
   "outputs": [
    {
     "data": {
      "text/plain": [
       "['Y:\\\\arm_linux\\\\data_decrypt\\\\data\\\\imgs_crop\\\\cache\\\\y_model1.h5',\n",
       " 'Y:\\\\arm_linux\\\\data_decrypt\\\\data\\\\imgs_in_out\\\\cache\\\\weights1.h5',\n",
       " 'Y:\\\\arm_linux\\\\data_decrypt\\\\data\\\\imgs_nbi\\\\cache\\\\weights1.h5',\n",
       " 'Y:\\\\arm_linux\\\\data_decrypt\\\\data\\\\imgs_parts\\\\cache\\\\weights3.h5',\n",
       " 'Y:\\\\arm_linux\\\\data_decrypt\\\\data\\\\imgs_parts\\\\cache\\\\weights4.h5',\n",
       " 'Y:\\\\arm_linux\\\\data_decrypt\\\\data\\\\imgs_xi\\\\cache\\\\weights2.h5',\n",
       " 'Y:\\\\arm_linux\\\\data_decrypt\\\\data\\\\imgs_xi\\\\cache\\\\y_model1.h5']"
      ]
     },
     "execution_count": 3,
     "metadata": {},
     "output_type": "execute_result"
    }
   ],
   "source": [
    "res50s = glob(os.path.join(src_root, '**','*.h5'), recursive=True)\n",
    "res50s"
   ]
  },
  {
   "cell_type": "code",
   "execution_count": 3,
   "metadata": {
    "ExecuteTime": {
     "end_time": "2024-03-04T03:22:30.474325Z",
     "start_time": "2024-03-04T03:22:30.457325Z"
    }
   },
   "outputs": [],
   "source": [
    "res50s = [r\"\\\\192.168.0.111\\共享\\for-wangwujin-1008\\清晰判断2分类模型2020年\\weights1.h5\"]"
   ]
  },
  {
   "cell_type": "code",
   "execution_count": 4,
   "metadata": {
    "ExecuteTime": {
     "end_time": "2024-03-04T03:22:56.900109Z",
     "start_time": "2024-03-04T03:22:31.035325Z"
    }
   },
   "outputs": [
    {
     "data": {
      "text/plain": "  0%|          | 0/1 [00:00<?, ?it/s]",
      "application/vnd.jupyter.widget-view+json": {
       "version_major": 2,
       "version_minor": 0,
       "model_id": "1a8bf295162847dcb4dfa06c309198b6"
      }
     },
     "metadata": {},
     "output_type": "display_data"
    },
    {
     "name": "stdout",
     "output_type": "stream",
     "text": [
      "WARNING:tensorflow:No training configuration found in the save file, so the model was *not* compiled. Compile it manually.\n"
     ]
    },
    {
     "name": "stderr",
     "output_type": "stream",
     "text": [
      "tf executing eager_mode: True\n",
      "tf.keras model eager_mode: False\n"
     ]
    },
    {
     "name": "stdout",
     "output_type": "stream",
     "text": [
      "(None, 224, 224, 3)\n"
     ]
    },
    {
     "name": "stderr",
     "output_type": "stream",
     "text": [
      "The ONNX operator number change on the optimization: 460 -> 128\n"
     ]
    }
   ],
   "source": [
    "for h5 in tqdm(res50s):\n",
    "    model = load_model(h5)\n",
    "    print(model.input_shape)\n",
    "    onnx_model = keras2onnx.convert_keras(model, model.name, target_opset=11)\n",
    "    onnx.save_model(onnx_model, h5[:-2] + 'onnx')"
   ]
  },
  {
   "cell_type": "code",
   "execution_count": 8,
   "metadata": {},
   "outputs": [
    {
     "name": "stdout",
     "output_type": "stream",
     "text": [
      "Model: \"sequential\"\n",
      "_________________________________________________________________\n",
      "Layer (type)                 Output Shape              Param #   \n",
      "=================================================================\n",
      "embedding_1 (Embedding)      (None, None, 64)          640       \n",
      "_________________________________________________________________\n",
      "lstm_1 (LSTM)                (None, 64)                33024     \n",
      "_________________________________________________________________\n",
      "dense_1 (Dense)              (None, 1)                 65        \n",
      "=================================================================\n",
      "Total params: 33,729\n",
      "Trainable params: 33,729\n",
      "Non-trainable params: 0\n",
      "_________________________________________________________________\n"
     ]
    }
   ],
   "source": [
    "model.summary()"
   ]
  },
  {
   "cell_type": "markdown",
   "metadata": {},
   "source": [
    "# 用trt将onnx转换成engine"
   ]
  },
  {
   "cell_type": "code",
   "execution_count": 1,
   "metadata": {
    "ExecuteTime": {
     "end_time": "2024-03-26T01:38:34.569081800Z",
     "start_time": "2024-03-26T01:38:34.182503500Z"
    }
   },
   "outputs": [
    {
     "ename": "ModuleNotFoundError",
     "evalue": "No module named 'pycuda'",
     "output_type": "error",
     "traceback": [
      "\u001B[1;31m---------------------------------------------------------------------------\u001B[0m",
      "\u001B[1;31mModuleNotFoundError\u001B[0m                       Traceback (most recent call last)",
      "Cell \u001B[1;32mIn[1], line 2\u001B[0m\n\u001B[0;32m      1\u001B[0m \u001B[38;5;28;01mimport\u001B[39;00m \u001B[38;5;21;01mos\u001B[39;00m\n\u001B[1;32m----> 2\u001B[0m \u001B[38;5;28;01mimport\u001B[39;00m \u001B[38;5;21;01mpycuda\u001B[39;00m\u001B[38;5;21;01m.\u001B[39;00m\u001B[38;5;21;01mautoinit\u001B[39;00m\n\u001B[0;32m      3\u001B[0m \u001B[38;5;28;01mimport\u001B[39;00m \u001B[38;5;21;01mpycuda\u001B[39;00m\u001B[38;5;21;01m.\u001B[39;00m\u001B[38;5;21;01mdriver\u001B[39;00m \u001B[38;5;28;01mas\u001B[39;00m \u001B[38;5;21;01mcuda\u001B[39;00m\n\u001B[0;32m      4\u001B[0m \u001B[38;5;28;01mimport\u001B[39;00m \u001B[38;5;21;01mtensorrt\u001B[39;00m \u001B[38;5;28;01mas\u001B[39;00m \u001B[38;5;21;01mtrt\u001B[39;00m\n",
      "\u001B[1;31mModuleNotFoundError\u001B[0m: No module named 'pycuda'"
     ]
    }
   ],
   "source": [
    "import os\n",
    "import pycuda.autoinit\n",
    "import pycuda.driver as cuda\n",
    "import tensorrt as trt\n",
    "from tqdm.notebook import tqdm\n",
    "from glob import glob"
   ]
  },
  {
   "cell_type": "code",
   "execution_count": 2,
   "metadata": {
    "ExecuteTime": {
     "end_time": "2024-03-13T09:13:24.094333Z",
     "start_time": "2024-03-13T09:13:22.701718Z"
    }
   },
   "outputs": [
    {
     "name": "stderr",
     "output_type": "stream",
     "text": [
      "<ipython-input-2-8ffcc2737bd1>:3: DeprecationWarning: Use network created with NetworkDefinitionCreationFlag::EXPLICIT_BATCH flag instead.\n",
      "  builder.max_batch_size = 1\n",
      "<ipython-input-2-8ffcc2737bd1>:5: DeprecationWarning: Use set_memory_pool_limit instead.\n",
      "  config.max_workspace_size = 1 << 20\n"
     ]
    }
   ],
   "source": [
    "TRT_LOGGER = trt.Logger(trt.Logger.WARNING)\n",
    "builder = trt.Builder(TRT_LOGGER)  # 创建一个builder\n",
    "builder.max_batch_size = 1\n",
    "config = builder.create_builder_config()  # 创建一个congig\n",
    "config.max_workspace_size = 1 << 20\n",
    "config.set_flag(trt.BuilderFlag.FP16)\n",
    "# config.set_flag(trt.BuilderFlag.TF32)\n",
    "EXPLICIT_BATCH = 1 << (int)(trt.NetworkDefinitionCreationFlag.EXPLICIT_BATCH)"
   ]
  },
  {
   "cell_type": "code",
   "execution_count": 3,
   "metadata": {
    "ExecuteTime": {
     "end_time": "2024-03-13T09:13:24.109333Z",
     "start_time": "2024-03-13T09:13:24.096335Z"
    }
   },
   "outputs": [],
   "source": [
    "def onnx2trt(src_path, dst_path, input_shape=None):\n",
    "    network = builder.create_network(EXPLICIT_BATCH)  # 创建一个network\n",
    "    parser = trt.OnnxParser(network, TRT_LOGGER)\n",
    "    # onnx_file_path = 'yolov3/yolo3-sim.onnx'\n",
    "    model = open(src_path, 'rb')\n",
    "    if not parser.parse(model.read()):\n",
    "        for error in range(parser.num_errors):\n",
    "            print(parser.get_error(error))\n",
    "    # print(network.get_input(0).shape)\n",
    "    # network.get_input(0).shape = [1,224,224,3]\n",
    "    new_shape = list(network.get_input(0).shape)\n",
    "    new_shape[0] = 1\n",
    "\n",
    "    if input_shape is not None:\n",
    "        network.get_input(0).shape = input_shape\n",
    "    else:\n",
    "        network.get_input(0).shape = new_shape\n",
    "    print(network.get_input(0).shape)\n",
    "    print('Completed parsing of ONNX file')\n",
    "    print('Building an engine from file {}; this may take a while...'.format(src_path))\n",
    "    plan = builder.build_serialized_network(network, config)\n",
    "    with open(dst_path, \"wb\") as f:\n",
    "        f.write(plan)\n",
    "        print(\"Completed write Engine\")"
   ]
  },
  {
   "cell_type": "code",
   "execution_count": 4,
   "metadata": {
    "ExecuteTime": {
     "end_time": "2024-03-13T06:38:54.439920Z",
     "start_time": "2024-03-13T06:38:54.425922Z"
    }
   },
   "outputs": [],
   "source": [
    "src_root = r'D:\\Projects\\bp-data-3.2.0'\n"
   ]
  },
  {
   "cell_type": "code",
   "execution_count": 9,
   "metadata": {},
   "outputs": [
    {
     "data": {
      "text/plain": [
       "['\\\\\\\\192.168.0.60\\\\public\\\\产品二部\\\\胆胰大师模型TensorRT转化\\\\bp-data-3.2.0\\\\imgs_ercp_old\\\\cache\\\\weights256x256.onnx',\n",
       " '\\\\\\\\192.168.0.60\\\\public\\\\产品二部\\\\胆胰大师模型TensorRT转化\\\\bp-data-3.2.0\\\\imgs_ercp_old\\\\cache\\\\weights512x512.onnx']"
      ]
     },
     "execution_count": 9,
     "metadata": {},
     "output_type": "execute_result"
    }
   ],
   "source": [
    "onnxs = glob(os.path.join(src_root, '**', '*.onnx'), recursive=True)\n",
    "onnxs"
   ]
  },
  {
   "cell_type": "markdown",
   "source": [],
   "metadata": {
    "collapsed": false
   }
  },
  {
   "cell_type": "code",
   "execution_count": 5,
   "metadata": {
    "ExecuteTime": {
     "end_time": "2024-03-13T06:39:06.397922Z",
     "start_time": "2024-03-13T06:39:06.384922Z"
    }
   },
   "outputs": [],
   "source": [
    "onnxs = [r\"D:\\Downloads\\WeChat Files\\wxid_bw5xm0rdkitu22\\FileStorage\\File\\2024-03\\best.onnx\"]"
   ]
  },
  {
   "cell_type": "code",
   "execution_count": 6,
   "metadata": {
    "ExecuteTime": {
     "end_time": "2024-03-13T06:45:31.915804Z",
     "start_time": "2024-03-13T06:39:07.557921Z"
    }
   },
   "outputs": [
    {
     "data": {
      "text/plain": "  0%|          | 0/1 [00:00<?, ?it/s]",
      "application/vnd.jupyter.widget-view+json": {
       "version_major": 2,
       "version_minor": 0,
       "model_id": "c6150cb615534a6694c4b05a3401f4a5"
      }
     },
     "metadata": {},
     "output_type": "display_data"
    },
    {
     "name": "stdout",
     "output_type": "stream",
     "text": [
      "(1, 3, 640, 640)\n",
      "Completed parsing of ONNX file\n",
      "Building an engine from file D:\\Downloads\\WeChat Files\\wxid_bw5xm0rdkitu22\\FileStorage\\File\\2024-03\\best.onnx; this may take a while...\n",
      "Completed write Engine\n"
     ]
    }
   ],
   "source": [
    "for ox in tqdm(onnxs):\n",
    "    # if os.path.basename(ox) in ['y_model1.onnx','lstm_weights.onnx']:\n",
    "    #     continue\n",
    "    onnx2trt(ox, ox[:-4] + 'trt')"
   ]
  },
  {
   "cell_type": "code",
   "execution_count": null,
   "metadata": {},
   "outputs": [],
   "source": []
  },
  {
   "cell_type": "code",
   "execution_count": null,
   "metadata": {},
   "outputs": [],
   "source": []
  },
  {
   "cell_type": "code",
   "execution_count": null,
   "metadata": {},
   "outputs": [],
   "source": []
  },
  {
   "cell_type": "code",
   "execution_count": 4,
   "metadata": {},
   "outputs": [
    {
     "name": "stderr",
     "output_type": "stream",
     "text": [
      "<ipython-input-4-3d2e8f988551>:2: DeprecationWarning: Use set_memory_pool_limit instead.\n",
      "  config.max_workspace_size = 1 << 20\n"
     ]
    }
   ],
   "source": []
  },
  {
   "cell_type": "code",
   "execution_count": 5,
   "metadata": {},
   "outputs": [],
   "source": []
  },
  {
   "cell_type": "code",
   "execution_count": 7,
   "metadata": {},
   "outputs": [
    {
     "name": "stdout",
     "output_type": "stream",
     "text": [
      "(1, 352, 352, 3)\n",
      "(1, 224, 224, 3)\n"
     ]
    }
   ],
   "source": []
  },
  {
   "cell_type": "markdown",
   "metadata": {},
   "source": [
    "# 加载engine进行推理"
   ]
  },
  {
   "cell_type": "code",
   "execution_count": 6,
   "metadata": {
    "ExecuteTime": {
     "end_time": "2023-09-27T09:57:16.482584900Z",
     "start_time": "2023-09-27T09:57:16.363526400Z"
    }
   },
   "outputs": [],
   "source": [
    "with open(r\"D:\\Projects\\znyx-plat\\trunk\\data_torch\\20\\imgs_wei_l_cls\\weights1.trt\", \"rb\") as f, trt.Runtime(\n",
    "        TRT_LOGGER) as runtime:\n",
    "    engine = runtime.deserialize_cuda_engine(f.read())"
   ]
  },
  {
   "cell_type": "code",
   "execution_count": 7,
   "metadata": {
    "ExecuteTime": {
     "end_time": "2023-09-27T09:57:17.401614Z",
     "start_time": "2023-09-27T09:57:17.375583700Z"
    }
   },
   "outputs": [
    {
     "data": {
      "text/plain": [
       "<tensorrt.tensorrt.ICudaEngine at 0x17539db58f0>"
      ]
     },
     "execution_count": 7,
     "metadata": {},
     "output_type": "execute_result"
    }
   ],
   "source": [
    "engine"
   ]
  },
  {
   "cell_type": "code",
   "execution_count": 19,
   "metadata": {},
   "outputs": [],
   "source": [
    "engine_list = []\n",
    "count1 = 0\n",
    "while True:\n",
    "    with open('test_model/res50.trt', \"rb\") as f, trt.Runtime(TRT_LOGGER) as runtime:\n",
    "        temp = runtime.deserialize_cuda_engine(f.read())\n",
    "        if temp is None:\n",
    "            break\n",
    "        engine_list.append(temp)\n",
    "        count1 += 1\n"
   ]
  },
  {
   "cell_type": "code",
   "execution_count": 5,
   "metadata": {},
   "outputs": [
    {
     "data": {
      "text/plain": [
       "69"
      ]
     },
     "execution_count": 5,
     "metadata": {},
     "output_type": "execute_result"
    }
   ],
   "source": [
    "count1"
   ]
  },
  {
   "cell_type": "code",
   "execution_count": 20,
   "metadata": {},
   "outputs": [],
   "source": [
    "for i in range(len(engine_list)):\n",
    "    engine_list.pop(-1)\n",
    "    # del a"
   ]
  },
  {
   "cell_type": "code",
   "execution_count": 18,
   "metadata": {},
   "outputs": [],
   "source": [
    "del engine_list"
   ]
  },
  {
   "cell_type": "code",
   "execution_count": 10,
   "metadata": {},
   "outputs": [
    {
     "ename": "NameError",
     "evalue": "name 'engine_list' is not defined",
     "output_type": "error",
     "traceback": [
      "\u001B[1;31m---------------------------------------------------------------------------\u001B[0m",
      "\u001B[1;31mNameError\u001B[0m                                 Traceback (most recent call last)",
      "\u001B[1;32m<ipython-input-10-2277dbc03a3a>\u001B[0m in \u001B[0;36m<module>\u001B[1;34m\u001B[0m\n\u001B[1;32m----> 1\u001B[1;33m \u001B[0mengine_list\u001B[0m\u001B[1;33m\u001B[0m\u001B[1;33m\u001B[0m\u001B[0m\n\u001B[0m",
      "\u001B[1;31mNameError\u001B[0m: name 'engine_list' is not defined"
     ]
    }
   ],
   "source": [
    "engine_list"
   ]
  },
  {
   "cell_type": "code",
   "execution_count": 6,
   "metadata": {},
   "outputs": [],
   "source": [
    "import gc"
   ]
  },
  {
   "cell_type": "code",
   "execution_count": 7,
   "metadata": {},
   "outputs": [
    {
     "data": {
      "text/plain": [
       "True"
      ]
     },
     "execution_count": 7,
     "metadata": {},
     "output_type": "execute_result"
    }
   ],
   "source": [
    "gc.isenabled()"
   ]
  },
  {
   "cell_type": "code",
   "execution_count": 20,
   "metadata": {},
   "outputs": [
    {
     "data": {
      "text/plain": [
       "4190"
      ]
     },
     "execution_count": 20,
     "metadata": {},
     "output_type": "execute_result"
    }
   ],
   "source": [
    "gc.collect()"
   ]
  },
  {
   "cell_type": "code",
   "execution_count": 135,
   "metadata": {},
   "outputs": [
    {
     "data": {
      "text/plain": [
       "(428, 0, 1)"
      ]
     },
     "execution_count": 135,
     "metadata": {},
     "output_type": "execute_result"
    }
   ],
   "source": [
    "gc.get_count()"
   ]
  },
  {
   "cell_type": "code",
   "execution_count": 15,
   "metadata": {},
   "outputs": [],
   "source": [
    "import sys"
   ]
  },
  {
   "cell_type": "code",
   "execution_count": 18,
   "metadata": {},
   "outputs": [
    {
     "ename": "NameError",
     "evalue": "name 'engine_list' is not defined",
     "output_type": "error",
     "traceback": [
      "\u001B[1;31m---------------------------------------------------------------------------\u001B[0m",
      "\u001B[1;31mNameError\u001B[0m                                 Traceback (most recent call last)",
      "\u001B[1;32m<ipython-input-18-abc5b8e4dea8>\u001B[0m in \u001B[0;36m<module>\u001B[1;34m\u001B[0m\n\u001B[1;32m----> 1\u001B[1;33m \u001B[0msys\u001B[0m\u001B[1;33m.\u001B[0m\u001B[0mgetrefcount\u001B[0m\u001B[1;33m(\u001B[0m\u001B[0mengine_list\u001B[0m\u001B[1;33m[\u001B[0m\u001B[1;36m0\u001B[0m\u001B[1;33m]\u001B[0m\u001B[1;33m)\u001B[0m\u001B[1;33m\u001B[0m\u001B[1;33m\u001B[0m\u001B[0m\n\u001B[0m",
      "\u001B[1;31mNameError\u001B[0m: name 'engine_list' is not defined"
     ]
    }
   ],
   "source": [
    "sys.getrefcount(engine_list[0])"
   ]
  },
  {
   "cell_type": "code",
   "execution_count": null,
   "metadata": {},
   "outputs": [],
   "source": []
  },
  {
   "cell_type": "code",
   "execution_count": 12,
   "metadata": {
    "ExecuteTime": {
     "end_time": "2023-09-27T09:58:29.579973200Z",
     "start_time": "2023-09-27T09:58:29.567973300Z"
    }
   },
   "outputs": [
    {
     "name": "stdout",
     "output_type": "stream",
     "text": [
      "float32\n",
      "float32\n"
     ]
    },
    {
     "name": "stderr",
     "output_type": "stream",
     "text": [
      "<ipython-input-12-967f2df3169a>:7: DeprecationWarning: Use network created with NetworkDefinitionCreationFlag::EXPLICIT_BATCH flag instead.\n",
      "  size = trt.volume(engine.get_binding_shape(binding)) * engine.max_batch_size\n"
     ]
    }
   ],
   "source": [
    "inputs = []\n",
    "outputs = []\n",
    "bindings = []\n",
    "stream = cuda.Stream()\n",
    "context = engine.create_execution_context()\n",
    "for binding in engine:\n",
    "    size = trt.volume(engine.get_binding_shape(binding)) * engine.max_batch_size\n",
    "\n",
    "    dtype = trt.nptype(engine.get_binding_dtype(binding))\n",
    "\n",
    "    # Allocate host and device buffers\n",
    "    host_mem = cuda.pagelocked_empty(size, dtype)\n",
    "    print(host_mem.dtype)\n",
    "    device_mem = cuda.mem_alloc(host_mem.nbytes)\n",
    "\n",
    "    # Append the device buffer to device bindings.\n",
    "    bindings.append(int(device_mem))\n",
    "    # Append to the appropriate list.\n",
    "    if engine.binding_is_input(binding):\n",
    "        inputs.append([host_mem, device_mem])\n",
    "    else:\n",
    "        outputs.append([host_mem, device_mem])\n"
   ]
  },
  {
   "cell_type": "code",
   "execution_count": 12,
   "metadata": {},
   "outputs": [],
   "source": [
    "# img = np.transpose(img,[2,0,1])"
   ]
  },
  {
   "cell_type": "code",
   "execution_count": 13,
   "metadata": {},
   "outputs": [],
   "source": [
    "# import joblib\n"
   ]
  },
  {
   "cell_type": "code",
   "execution_count": 14,
   "metadata": {},
   "outputs": [],
   "source": [
    "# joblib.dump(img,'zheng_model/img.jbl')"
   ]
  },
  {
   "cell_type": "code",
   "execution_count": 15,
   "metadata": {},
   "outputs": [],
   "source": [
    "# import cv2\n",
    "# import joblib\n",
    "# img = cv2.imread('cat.jpg')\n",
    "# img = cv2.resize(img,(224,224))\n",
    "# img = img.astype(np.float)\n",
    "# mean = [103.939, 116.779, 123.68]\n",
    "# img[..., 0] -= mean[0]\n",
    "# img[..., 1] -= mean[1]\n",
    "# img[..., 2] -= mean[2]"
   ]
  },
  {
   "cell_type": "code",
   "execution_count": 8,
   "metadata": {
    "ExecuteTime": {
     "end_time": "2023-09-27T09:57:50.756321100Z",
     "start_time": "2023-09-27T09:57:50.700319500Z"
    }
   },
   "outputs": [],
   "source": [
    "import numpy as np\n",
    "import cv2"
   ]
  },
  {
   "cell_type": "code",
   "execution_count": 14,
   "metadata": {
    "ExecuteTime": {
     "end_time": "2023-06-26T07:23:29.507274600Z",
     "start_time": "2023-06-26T07:23:29.478917Z"
    }
   },
   "outputs": [],
   "source": [
    "def softmax(f):\n",
    "    f -= np.max(f)\n",
    "    return np.exp(f) / np.sum(np.exp(f))"
   ]
  },
  {
   "cell_type": "code",
   "execution_count": 9,
   "metadata": {
    "ExecuteTime": {
     "end_time": "2023-09-27T09:58:05.568666100Z",
     "start_time": "2023-09-27T09:58:05.528667600Z"
    }
   },
   "outputs": [],
   "source": [
    "# img = np.random.random((3, 224, 224))\n",
    "img = np.random.random(( 224, 224,3))"
   ]
  },
  {
   "cell_type": "code",
   "execution_count": 10,
   "metadata": {
    "ExecuteTime": {
     "end_time": "2023-09-27T09:58:08.081746100Z",
     "start_time": "2023-09-27T09:58:08.068745800Z"
    }
   },
   "outputs": [],
   "source": [
    "img = img.astype(np.float32)"
   ]
  },
  {
   "cell_type": "code",
   "execution_count": 8,
   "metadata": {},
   "outputs": [],
   "source": [
    "# joblib.dump(img,'test_model/img.jbl')\n",
    "img = joblib.load('test_model/img.jbl')"
   ]
  },
  {
   "cell_type": "code",
   "execution_count": 9,
   "metadata": {
    "ExecuteTime": {
     "end_time": "2023-06-26T07:22:02.088283800Z",
     "start_time": "2023-06-26T07:22:02.064183Z"
    }
   },
   "outputs": [],
   "source": [
    "img = cv2.imread(r\"D:\\Downloads\\WeChat Files\\wxid_bw5xm0rdkitu22\\FileStorage\\File\\2023-06\\f5472\\f5472.jpg\")\n",
    "img = img[..., ::-1]\n",
    "img = cv2.resize(img, (256, 256))\n",
    "img = img[17:241, 17:241, :]\n",
    "img = (img / 255 - [0.0482, 0.0437, 0.0387]) / [0.1193, 0.1182, 0.128]\n",
    "img = np.transpose(img, (2, 0, 1))\n",
    "img = img.astype(np.float32)\n",
    "img = np.ascontiguousarray(img)"
   ]
  },
  {
   "cell_type": "code",
   "execution_count": 13,
   "metadata": {
    "ExecuteTime": {
     "end_time": "2023-09-27T09:58:34.036424500Z",
     "start_time": "2023-09-27T09:58:34.031425200Z"
    }
   },
   "outputs": [],
   "source": [
    "# trt_img = np.array(img[None,:],dtype=inputs[0][0].dtype,order='C')\n",
    "inputs[0][0] = np.array(img[None, :], dtype=inputs[0][0].dtype, order='C')\n",
    "# trt_img = img[None,:].ravel()"
   ]
  },
  {
   "cell_type": "code",
   "execution_count": 14,
   "metadata": {
    "ExecuteTime": {
     "end_time": "2023-09-27T09:58:35.952Z",
     "start_time": "2023-09-27T09:58:35.916001900Z"
    }
   },
   "outputs": [],
   "source": [
    "[cuda.memcpy_htod_async(inp[1], inp[0], stream) for inp in inputs]\n",
    "# Run inference.\n",
    "context.execute_async_v2(bindings=bindings, stream_handle=stream.handle)\n",
    "# Transfer predictions back from the GPU.\n",
    "[cuda.memcpy_dtoh_async(out[0], out[1], stream) for out in outputs]\n",
    "# Synchronize the stream\n",
    "stream.synchronize()"
   ]
  },
  {
   "cell_type": "code",
   "execution_count": 15,
   "metadata": {
    "ExecuteTime": {
     "end_time": "2023-09-27T09:58:51.576179500Z",
     "start_time": "2023-09-27T09:58:51.571178Z"
    }
   },
   "outputs": [
    {
     "data": {
      "text/plain": [
       "[(2, 0.50871706)]"
      ]
     },
     "execution_count": 15,
     "metadata": {},
     "output_type": "execute_result"
    }
   ],
   "source": [
    "[(np.argmax(out[0]), np.max(out[0])) for out in outputs]"
   ]
  },
  {
   "cell_type": "code",
   "execution_count": 17,
   "metadata": {
    "ExecuteTime": {
     "end_time": "2023-09-27T09:59:03.551787400Z",
     "start_time": "2023-09-27T09:59:03.524757200Z"
    }
   },
   "outputs": [
    {
     "data": {
      "text/plain": [
       "array([0.38740793, 0.07354643, 0.50871706, 0.01728551, 0.01304315],\n",
       "      dtype=float32)"
      ]
     },
     "execution_count": 17,
     "metadata": {},
     "output_type": "execute_result"
    }
   ],
   "source": [
    "outputs[0][0]"
   ]
  },
  {
   "cell_type": "code",
   "execution_count": 19,
   "metadata": {
    "ExecuteTime": {
     "end_time": "2023-09-27T09:59:41.439630400Z",
     "start_time": "2023-09-27T09:59:41.425631Z"
    }
   },
   "outputs": [
    {
     "data": {
      "text/plain": [
       "<pycuda._driver.DeviceAllocation at 0x1756fd8b3f0>"
      ]
     },
     "execution_count": 19,
     "metadata": {},
     "output_type": "execute_result"
    }
   ],
   "source": [
    "outputs[0][1]"
   ]
  },
  {
   "cell_type": "code",
   "execution_count": 15,
   "metadata": {
    "ExecuteTime": {
     "end_time": "2023-06-26T07:24:09.196896200Z",
     "start_time": "2023-06-26T07:24:09.172864500Z"
    }
   },
   "outputs": [
    {
     "data": {
      "text/plain": [
       "array([9.9495232e-01, 1.1161991e-03, 3.5055049e-03, 1.0085311e-04,\n",
       "       1.9215094e-04, 4.7181980e-05, 5.4983484e-05, 3.0327721e-05,\n",
       "       4.6079029e-07], dtype=float32)"
      ]
     },
     "execution_count": 15,
     "metadata": {},
     "output_type": "execute_result"
    }
   ],
   "source": [
    "softmax(outputs[0][0])"
   ]
  },
  {
   "cell_type": "code",
   "execution_count": 13,
   "metadata": {},
   "outputs": [],
   "source": [
    "import time"
   ]
  },
  {
   "cell_type": "code",
   "execution_count": 23,
   "metadata": {},
   "outputs": [],
   "source": [
    "start = time.time()\n",
    "img_in = np.array(img[None, :], dtype=inputs[0][0].dtype, order='C')\n",
    "for i in range(10000):\n",
    "    inputs[0][0] = img_in\n",
    "    [cuda.memcpy_htod_async(inp[1], inp[0], stream) for inp in inputs]\n",
    "    # Run inference.\n",
    "    context.execute_async_v2(bindings=bindings, stream_handle=stream.handle)\n",
    "    # Transfer predictions back from the GPU.\n",
    "    [cuda.memcpy_dtoh_async(out[0], out[1], stream) for out in outputs]\n",
    "    # Synchronize the stream\n",
    "    stream.synchronize()\n",
    "end = time.time()"
   ]
  },
  {
   "cell_type": "code",
   "execution_count": 24,
   "metadata": {},
   "outputs": [
    {
     "data": {
      "text/plain": [
       "0.002201115107536316"
      ]
     },
     "execution_count": 24,
     "metadata": {},
     "output_type": "execute_result"
    }
   ],
   "source": [
    "(end - start) / 10000"
   ]
  }
 ],
 "metadata": {
  "kernelspec": {
   "name": "python3",
   "language": "python",
   "display_name": "Python 3 (ipykernel)"
  },
  "language_info": {
   "codemirror_mode": {
    "name": "ipython",
    "version": 3
   },
   "file_extension": ".py",
   "mimetype": "text/x-python",
   "name": "python",
   "nbconvert_exporter": "python",
   "pygments_lexer": "ipython3",
   "version": "3.8.5"
  }
 },
 "nbformat": 4,
 "nbformat_minor": 1
}
